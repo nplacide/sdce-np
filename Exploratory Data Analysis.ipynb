{
 "cells": [
  {
   "cell_type": "markdown",
   "metadata": {},
   "source": [
    "# Explore the dataset\n",
    "\n",
    "\n",
    "In this notebook, we will perform an EDA (Exploratory Data Analysis) on the processed Waymo dataset (data in the `processed` folder). In the first part, you will create a function to display "
   ]
  },
  {
   "cell_type": "code",
   "execution_count": null,
   "metadata": {},
   "outputs": [],
   "source": [
    "from utils import get_dataset\n",
    "import numpy as np\n",
    "import tensorflow as tf\n",
    "%matplotlib inline\n",
    "import matplotlib.pyplot as plt\n",
    "import matplotlib.patches as patches\n",
    "from create_splits import split"
   ]
  },
  {
   "cell_type": "code",
   "execution_count": null,
   "metadata": {},
   "outputs": [],
   "source": [
    "dataset = get_dataset(\"/home/workspace/data/processed/*.tfrecord\")"
   ]
  },
  {
   "cell_type": "markdown",
   "metadata": {},
   "source": [
    "## Write a function to display an image and the bounding boxes\n",
    "\n",
    "Implement the `display_instances` function below. This function takes a batch as an input and display an image with its corresponding bounding boxes. The only requirement is that the classes should be color coded (eg, vehicles in red, pedestrians in blue, cyclist in green)."
   ]
  },
  {
   "cell_type": "code",
   "execution_count": null,
   "metadata": {},
   "outputs": [],
   "source": [
    "def display_instances(batch):\n",
    "    \"\"\"\n",
    "    This function takes a batch from the dataset and display the image with \n",
    "    the associated bounding boxes.\n",
    "    \"\"\"\n",
    "    images = []\n",
    "    bboxes = []\n",
    "    classes = []\n",
    "    \n",
    "    count = 0 \n",
    "    \n",
    "        \n",
    "    #iterate through the batch and get all the images, bounding boxes and classes\n",
    "    for data in batch:\n",
    "        images.append(np.array(data['image'], dtype=\"uint8\"))\n",
    "        bboxes.append(np.array(data['groundtruth_boxes'], dtype=\"float32\"))\n",
    "        classes.append(np.array(data['groundtruth_classes'], dtype=\"int64\"))\n",
    "        count += 1\n",
    "\n",
    "    # color mapping of classes\n",
    "    colormap = {1: [1, 0, 0], 2: [0, 1, 0], 4: [0, 0, 1]}\n",
    "\n",
    "    #create figure and axes\n",
    "    fig, ax = plt.subplots(5, 2, figsize =(50,50))\n",
    "\n",
    "    for i in range(count):\n",
    "        #get x and y for the axes\n",
    "        x = i % 5\n",
    "        y = i % 2\n",
    "        \n",
    "        #display the image\n",
    "        ax[x,y].imshow(images[i])\n",
    "        \n",
    "        #list of bounding boxes for the current image\n",
    "        b_box = bboxes[i]\n",
    "        \n",
    "        #list of classes for the current image\n",
    "        b_class = classes[i]\n",
    "        \n",
    "        #use the built-in zip function to link the two lists as we iterate\n",
    "        for cl, bb in zip(b_class, b_box):\n",
    "            \n",
    "            #get the image width and height\n",
    "            w, h, _ = images[i].shape\n",
    "            \n",
    "            #get the coordinates of the bottom left and top right of each box\n",
    "            y1, x1, y2, x2  = bb\n",
    "            \n",
    "            #resize the boxes to the current image size.\n",
    "            x1, x2 = x1 * w, x2 * w\n",
    "            y1, y2 = y1 * h, y2 * h\n",
    "                \n",
    "            #create a rectangle from those points with the edgecolor matching the color set for the class\n",
    "            rec = patches.Rectangle((x1,y1), x2-x1, y2-y1, fc='none', ec=colormap[cl])\n",
    "            \n",
    "            #Add the patch to the current ax\n",
    "            ax[x,y].add_patch(rec)\n",
    "            \n",
    "            #define the intesting area of the image\n",
    "            ax[x,y].set_xlim([0, 640])\n",
    "            ax[x,y].set_ylim([640, 0])\n",
    "            \n",
    "    plt.tight_layout()\n",
    "    plt.show()\n"
   ]
  },
  {
   "cell_type": "markdown",
   "metadata": {},
   "source": [
    "## Display 10 images \n",
    "\n",
    "Using the dataset created in the second cell and the function you just coded, display 10 random images with the associated bounding boxes. You can use the methods `take` and `shuffle` on the dataset."
   ]
  },
  {
   "cell_type": "code",
   "execution_count": null,
   "metadata": {},
   "outputs": [],
   "source": [
    "qt = 10\n",
    "\n",
    "batch = dataset.take(qt)\n",
    "display_instances(batch)"
   ]
  },
  {
   "cell_type": "markdown",
   "metadata": {},
   "source": [
    "## Additional EDA\n",
    "\n",
    "In this last part, you are free to perform any additional analysis of the dataset. What else would like to know about the data?\n",
    "For example, think about data distribution. So far, you have only looked at a single file..."
   ]
  },
  {
   "cell_type": "markdown",
   "metadata": {},
   "source": [
    "There is a variety of images taken under different lighting conditions. Will need to compensate for lightness and brightness with augmentations during training."
   ]
  },
  {
   "cell_type": "code",
   "execution_count": null,
   "metadata": {},
   "outputs": [],
   "source": []
  }
 ],
 "metadata": {
  "kernelspec": {
   "display_name": "Python 3",
   "language": "python",
   "name": "python3"
  },
  "language_info": {
   "codemirror_mode": {
    "name": "ipython",
    "version": 3
   },
   "file_extension": ".py",
   "mimetype": "text/x-python",
   "name": "python",
   "nbconvert_exporter": "python",
   "pygments_lexer": "ipython3",
   "version": "3.6.9"
  }
 },
 "nbformat": 4,
 "nbformat_minor": 4
}
